{
 "cells": [
  {
   "cell_type": "code",
   "execution_count": 1,
   "metadata": {},
   "outputs": [],
   "source": [
    "import os\n",
    "import sys\n",
    "import matplotlib.pyplot as plt\n",
    "import glob\n",
    "import random\n",
    "import pandas as pd\n",
    "import easyaccess as ea\n",
    "import numpy as np\n",
    "import re\n",
    "import psycopg2\n",
    "import subprocess\n",
    "from subprocess import Popen, PIPE\n",
    "import argparse\n",
    "from multiprocessing import Pool,Process, Queue, current_process, Semaphore\n",
    "import time\n",
    "import queue\n",
    "import functions_imageproc"
   ]
  },
  {
   "cell_type": "code",
   "execution_count": 2,
   "metadata": {},
   "outputs": [],
   "source": [
    "def EXPlist(explist):\n",
    "    \n",
    "    file_to_read = open(explist,'r')\n",
    "    exp_file = file_to_read.readlines()\n",
    "    elist = [exp.strip() for exp in exp_file]\n",
    "    file_to_read.close()\n",
    "\n",
    "    return elist"
   ]
  },
  {
   "cell_type": "code",
   "execution_count": 3,
   "metadata": {},
   "outputs": [
    {
     "name": "stdout",
     "output_type": "stream",
     "text": [
      "Please input the filepath to your exp.list fileexposurestest.list\n"
     ]
    }
   ],
   "source": [
    "inputted_exp_list = input(\"Please input the filepath to your exp.list file\")"
   ]
  },
  {
   "cell_type": "code",
   "execution_count": 4,
   "metadata": {},
   "outputs": [],
   "source": [
    "# filepath = 'test_exp_list.list'\n",
    "filepath = inputted_exp_list\n",
    "sample_exp_set = EXPlist(filepath)\n",
    "number_exps = len(sample_exp_set)"
   ]
  },
  {
   "cell_type": "code",
   "execution_count": 5,
   "metadata": {},
   "outputs": [],
   "source": [
    "#initializing information for the processing function arguments\n",
    "number_of_tasks = number_exps\n",
    "#number of processes is how many to submit/run at one time \n",
    "number_of_processes = 5\n",
    "exp_set = sample_exp_set"
   ]
  },
  {
   "cell_type": "code",
   "execution_count": 6,
   "metadata": {},
   "outputs": [
    {
     "name": "stdout",
     "output_type": "stream",
     "text": [
      "Running ./DAGMaker.sh 938820\n",
      "Running ./DAGMaker.sh 938821\n",
      "Running ./DAGMaker.sh 938822\n",
      "Running ./DAGMaker.sh 938823\n",
      "Running ./DAGMaker.sh 938824\n",
      "All done with ./DAGMaker.sh 938824\n",
      "All done with ./DAGMaker.sh 938821\n",
      "All done with ./DAGMaker.sh 938823\n",
      "All done with ./DAGMaker.sh 938822\n",
      "938824 is done by Process-5\n",
      "938820 is done by Process-1\n",
      "938821 is done by Process-2\n",
      "938823 is done by Process-4\n",
      "938822 is done by Process-3\n"
     ]
    }
   ],
   "source": [
    "def main():\n",
    "    \n",
    "    #initialize queues so the system can recognize what's been done and what needs to be done \n",
    "    exps_to_run = Queue()\n",
    "    finished_exps = Queue()\n",
    "    processes = []\n",
    "    sema = Semaphore(number_of_processes)\n",
    "\n",
    "    for i in range(number_of_tasks):\n",
    "        exps_to_run.put(int(i))\n",
    "\n",
    "    # creating processes\n",
    "    for w in range(number_of_processes):\n",
    "        sema.acquire()\n",
    "        p = Process(target=functions_imageproc.run_dagsh, args=(exps_to_run, finished_exps, exp_set))\n",
    "        processes.append(p)\n",
    "        p.start()\n",
    "\n",
    "    # completing processes\n",
    "    for p in processes:\n",
    "        p.join()\n",
    "\n",
    "    # print what has been done to double check everything went smoothly\n",
    "    while not finished_exps.empty():\n",
    "        print(finished_exps.get())\n",
    "\n",
    "    return True\n",
    "\n",
    "\n",
    "if __name__ == '__main__':\n",
    "    main()"
   ]
  },
  {
   "cell_type": "code",
   "execution_count": null,
   "metadata": {},
   "outputs": [],
   "source": [
    "#get the band for each of these exposures [exp band, exp band, exp band, exp band] and the nite and season "
   ]
  }
 ],
 "metadata": {
  "kernelspec": {
   "display_name": "Python 2",
   "language": "python",
   "name": "python2"
  },
  "language_info": {
   "codemirror_mode": {
    "name": "ipython",
    "version": 2
   },
   "file_extension": ".py",
   "mimetype": "text/x-python",
   "name": "python",
   "nbconvert_exporter": "python",
   "pygments_lexer": "ipython2",
   "version": "2.7.15"
  }
 },
 "nbformat": 4,
 "nbformat_minor": 4
}
